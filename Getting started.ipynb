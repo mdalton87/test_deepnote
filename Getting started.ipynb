{
 "cells": [
  {
   "cell_type": "markdown",
   "source": "# Getting started\n\n👋 Welcome to Deepnote! If you're new to notebooks, we recommend you browse through this guide and watch the videos (it takes about 5 minutes). You can also pick what's most relevant to you right now and come back anytime to see the rest. ",
   "metadata": {
    "cell_id": "3599f9d4-6666-4455-8015-de79af406f30",
    "deepnote_cell_type": "markdown"
   }
  },
  {
   "cell_type": "markdown",
   "source": "## 1. Run a cell 🏃\nSelect the code cell below and click _Run_ in the right sidebar. You can also press <kbd>Shift</kbd>+<kbd>Enter</kbd> to run it and move to the next cell.",
   "metadata": {
    "tags": [],
    "cell_id": "41e4c6df-c2a3-4f8e-b5eb-7a70ad671bce",
    "deepnote_cell_type": "markdown"
   }
  },
  {
   "cell_type": "code",
   "metadata": {
    "tags": [],
    "output_cleared": false,
    "cell_id": "0b9b7a2b-9e8b-458b-90e1-e03933d2c995",
    "source_hash": "93239769",
    "execution_start": 1620918160763,
    "execution_millis": 150,
    "deepnote_to_be_reexecuted": false,
    "deepnote_cell_type": "code"
   },
   "source": "import pandas as pd\n# Load the data set\ndf = pd.read_csv ('SF_bikeshare_stations.csv') \ndf",
   "execution_count": 1,
   "outputs": [
    {
     "output_type": "execute_result",
     "execution_count": 1,
     "data": {
      "application/vnd.deepnote.dataframe.v2+json": {
       "row_count": 74,
       "column_count": 7,
       "columns": [
        {
         "name": "station_id",
         "dtype": "int64",
         "stats": {
          "unique_count": 74,
          "nan_count": 0,
          "min": "2",
          "max": "91",
          "histogram": [
           {
            "bin_start": 2,
            "bin_end": 10.9,
            "count": 9
           },
           {
            "bin_start": 10.9,
            "bin_end": 19.8,
            "count": 5
           },
           {
            "bin_start": 19.8,
            "bin_end": 28.700000000000003,
            "count": 8
           },
           {
            "bin_start": 28.700000000000003,
            "bin_end": 37.6,
            "count": 9
           },
           {
            "bin_start": 37.6,
            "bin_end": 46.5,
            "count": 6
           },
           {
            "bin_start": 46.5,
            "bin_end": 55.400000000000006,
            "count": 7
           },
           {
            "bin_start": 55.400000000000006,
            "bin_end": 64.30000000000001,
            "count": 9
           },
           {
            "bin_start": 64.30000000000001,
            "bin_end": 73.2,
            "count": 9
           },
           {
            "bin_start": 73.2,
            "bin_end": 82.10000000000001,
            "count": 6
           },
           {
            "bin_start": 82.10000000000001,
            "bin_end": 91,
            "count": 6
           }
          ]
         }
        },
        {
         "name": "name",
         "dtype": "object",
         "stats": {
          "unique_count": 74,
          "nan_count": 0,
          "categories": [
           {
            "name": "Santa Clara at Almaden",
            "count": 1
           },
           {
            "name": "Cowper at University",
            "count": 1
           },
           {
            "name": "72 others",
            "count": 72
           }
          ]
         }
        },
        {
         "name": "latitude",
         "dtype": "float64",
         "stats": {
          "unique_count": 74,
          "nan_count": 0,
          "min": "37.329732",
          "max": "37.80477",
          "histogram": [
           {
            "bin_start": 37.329732,
            "bin_end": 37.3772358,
            "count": 18
           },
           {
            "bin_start": 37.3772358,
            "bin_end": 37.4247396,
            "count": 7
           },
           {
            "bin_start": 37.4247396,
            "bin_end": 37.472243399999996,
            "count": 5
           },
           {
            "bin_start": 37.472243399999996,
            "bin_end": 37.5197472,
            "count": 7
           },
           {
            "bin_start": 37.5197472,
            "bin_end": 37.567251,
            "count": 0
           },
           {
            "bin_start": 37.567251,
            "bin_end": 37.6147548,
            "count": 0
           },
           {
            "bin_start": 37.6147548,
            "bin_end": 37.6622586,
            "count": 0
           },
           {
            "bin_start": 37.6622586,
            "bin_end": 37.709762399999995,
            "count": 0
           },
           {
            "bin_start": 37.709762399999995,
            "bin_end": 37.7572662,
            "count": 0
           },
           {
            "bin_start": 37.7572662,
            "bin_end": 37.80477,
            "count": 37
           }
          ]
         }
        },
        {
         "name": "longitude",
         "dtype": "float64",
         "stats": {
          "unique_count": 74,
          "nan_count": 0,
          "min": "-122.418954",
          "max": "-121.877349",
          "histogram": [
           {
            "bin_start": -122.418954,
            "bin_end": -122.3647935,
            "count": 37
           },
           {
            "bin_start": -122.3647935,
            "bin_end": -122.310633,
            "count": 0
           },
           {
            "bin_start": -122.310633,
            "bin_end": -122.2564725,
            "count": 0
           },
           {
            "bin_start": -122.2564725,
            "bin_end": -122.20231199999999,
            "count": 7
           },
           {
            "bin_start": -122.20231199999999,
            "bin_end": -122.1481515,
            "count": 3
           },
           {
            "bin_start": -122.1481515,
            "bin_end": -122.093991,
            "count": 4
           },
           {
            "bin_start": -122.093991,
            "bin_end": -122.0398305,
            "count": 5
           },
           {
            "bin_start": -122.0398305,
            "bin_end": -121.98567,
            "count": 0
           },
           {
            "bin_start": -121.98567,
            "bin_end": -121.93150949999999,
            "count": 0
           },
           {
            "bin_start": -121.93150949999999,
            "bin_end": -121.877349,
            "count": 18
           }
          ]
         }
        },
        {
         "name": "dockcount",
         "dtype": "int64",
         "stats": {
          "unique_count": 8,
          "nan_count": 0,
          "min": "11",
          "max": "35",
          "histogram": [
           {
            "bin_start": 11,
            "bin_end": 13.4,
            "count": 4
           },
           {
            "bin_start": 13.4,
            "bin_end": 15.8,
            "count": 33
           },
           {
            "bin_start": 15.8,
            "bin_end": 18.2,
            "count": 0
           },
           {
            "bin_start": 18.2,
            "bin_end": 20.6,
            "count": 21
           },
           {
            "bin_start": 20.6,
            "bin_end": 23,
            "count": 0
           },
           {
            "bin_start": 23,
            "bin_end": 25.4,
            "count": 10
           },
           {
            "bin_start": 25.4,
            "bin_end": 27.8,
            "count": 4
           },
           {
            "bin_start": 27.8,
            "bin_end": 30.2,
            "count": 0
           },
           {
            "bin_start": 30.2,
            "bin_end": 32.599999999999994,
            "count": 1
           },
           {
            "bin_start": 32.599999999999994,
            "bin_end": 35,
            "count": 1
           }
          ]
         }
        },
        {
         "name": "landmark",
         "dtype": "object",
         "stats": {
          "unique_count": 5,
          "nan_count": 0,
          "categories": [
           {
            "name": "San Francisco",
            "count": 37
           },
           {
            "name": "San Jose",
            "count": 18
           },
           {
            "name": "3 others",
            "count": 19
           }
          ]
         }
        },
        {
         "name": "installation_date",
         "dtype": "object",
         "stats": {
          "unique_count": 21,
          "nan_count": 0,
          "categories": [
           {
            "name": "2013-08-23",
            "count": 7
           },
           {
            "name": "2013-08-19",
            "count": 6
           },
           {
            "name": "19 others",
            "count": 61
           }
          ]
         }
        },
        {
         "name": "_deepnote_index_column",
         "dtype": "int64"
        }
       ],
       "rows_top": [
        {
         "station_id": 4,
         "name": "Santa Clara at Almaden",
         "latitude": 37.333988,
         "longitude": -121.894902,
         "dockcount": 11,
         "landmark": "San Jose",
         "installation_date": "2013-08-06",
         "_deepnote_index_column": 0
        },
        {
         "station_id": 37,
         "name": "Cowper at University",
         "latitude": 37.448598,
         "longitude": -122.159504,
         "dockcount": 11,
         "landmark": "Palo Alto",
         "installation_date": "2013-08-14",
         "_deepnote_index_column": 1
        },
        {
         "station_id": 35,
         "name": "University and Emerson",
         "latitude": 37.444521,
         "longitude": -122.163093,
         "dockcount": 11,
         "landmark": "Palo Alto",
         "installation_date": "2013-08-15",
         "_deepnote_index_column": 2
        },
        {
         "station_id": 32,
         "name": "Castro Street and El Camino Real",
         "latitude": 37.385956,
         "longitude": -122.083678,
         "dockcount": 11,
         "landmark": "Mountain View",
         "installation_date": "2013-12-31",
         "_deepnote_index_column": 3
        },
        {
         "station_id": 84,
         "name": "Ryland Park",
         "latitude": 37.342725,
         "longitude": -121.895617,
         "dockcount": 15,
         "landmark": "San Jose",
         "installation_date": "2014-04-09",
         "_deepnote_index_column": 4
        },
        {
         "station_id": 8,
         "name": "San Salvador at 1st",
         "latitude": 37.330165,
         "longitude": -121.885831,
         "dockcount": 15,
         "landmark": "San Jose",
         "installation_date": "2013-08-05",
         "_deepnote_index_column": 5
        },
        {
         "station_id": 9,
         "name": "Japantown",
         "latitude": 37.348742,
         "longitude": -121.894715,
         "dockcount": 15,
         "landmark": "San Jose",
         "installation_date": "2013-08-05",
         "_deepnote_index_column": 6
        },
        {
         "station_id": 3,
         "name": "San Jose Civic Center",
         "latitude": 37.330698,
         "longitude": -121.888979,
         "dockcount": 15,
         "landmark": "San Jose",
         "installation_date": "2013-08-05",
         "_deepnote_index_column": 7
        },
        {
         "station_id": 13,
         "name": "St James Park",
         "latitude": 37.339301,
         "longitude": -121.889937,
         "dockcount": 15,
         "landmark": "San Jose",
         "installation_date": "2013-08-06",
         "_deepnote_index_column": 8
        },
        {
         "station_id": 10,
         "name": "San Jose City Hall",
         "latitude": 37.337391,
         "longitude": -121.886995,
         "dockcount": 15,
         "landmark": "San Jose",
         "installation_date": "2013-08-06",
         "_deepnote_index_column": 9
        },
        {
         "station_id": 16,
         "name": "SJSU - San Salvador at 9th",
         "latitude": 37.333955,
         "longitude": -121.877349,
         "dockcount": 15,
         "landmark": "San Jose",
         "installation_date": "2013-08-07",
         "_deepnote_index_column": 10
        },
        {
         "station_id": 7,
         "name": "Paseo de San Antonio",
         "latitude": 37.333798,
         "longitude": -121.886943,
         "dockcount": 15,
         "landmark": "San Jose",
         "installation_date": "2013-08-07",
         "_deepnote_index_column": 11
        },
        {
         "station_id": 6,
         "name": "San Pedro Square",
         "latitude": 37.336721,
         "longitude": -121.894074,
         "dockcount": 15,
         "landmark": "San Jose",
         "installation_date": "2013-08-07",
         "_deepnote_index_column": 12
        },
        {
         "station_id": 25,
         "name": "Stanford in Redwood City",
         "latitude": 37.48537,
         "longitude": -122.203288,
         "dockcount": 15,
         "landmark": "Redwood City",
         "installation_date": "2013-08-12",
         "_deepnote_index_column": 13
        },
        {
         "station_id": 21,
         "name": "Franklin at Maple",
         "latitude": 37.481758,
         "longitude": -122.226904,
         "dockcount": 15,
         "landmark": "Redwood City",
         "installation_date": "2013-08-12",
         "_deepnote_index_column": 14
        },
        {
         "station_id": 24,
         "name": "Redwood City Public Library",
         "latitude": 37.484219,
         "longitude": -122.227424,
         "dockcount": 15,
         "landmark": "Redwood City",
         "installation_date": "2013-08-12",
         "_deepnote_index_column": 15
        },
        {
         "station_id": 26,
         "name": "Redwood City Medical Center",
         "latitude": 37.487682,
         "longitude": -122.223492,
         "dockcount": 15,
         "landmark": "Redwood City",
         "installation_date": "2013-08-12",
         "_deepnote_index_column": 16
        },
        {
         "station_id": 38,
         "name": "Park at Olive",
         "latitude": 37.4256839,
         "longitude": -122.1377775,
         "dockcount": 15,
         "landmark": "Palo Alto",
         "installation_date": "2013-08-14",
         "_deepnote_index_column": 17
        },
        {
         "station_id": 36,
         "name": "California Ave Caltrain Station",
         "latitude": 37.429082,
         "longitude": -122.142805,
         "dockcount": 15,
         "landmark": "Palo Alto",
         "installation_date": "2013-08-14",
         "_deepnote_index_column": 18
        },
        {
         "station_id": 23,
         "name": "San Mateo County Center",
         "latitude": 37.487616,
         "longitude": -122.229951,
         "dockcount": 15,
         "landmark": "Redwood City",
         "installation_date": "2013-08-15",
         "_deepnote_index_column": 19
        },
        {
         "station_id": 27,
         "name": "Mountain View City Hall",
         "latitude": 37.389218,
         "longitude": -122.081896,
         "dockcount": 15,
         "landmark": "Mountain View",
         "installation_date": "2013-08-16",
         "_deepnote_index_column": 20
        },
        {
         "station_id": 41,
         "name": "Clay at Battery",
         "latitude": 37.795001,
         "longitude": -122.39997,
         "dockcount": 15,
         "landmark": "San Francisco",
         "installation_date": "2013-08-19",
         "_deepnote_index_column": 21
        },
        {
         "station_id": 48,
         "name": "Embarcadero at Vallejo",
         "latitude": 37.799953,
         "longitude": -122.398525,
         "dockcount": 15,
         "landmark": "San Francisco",
         "installation_date": "2013-08-19",
         "_deepnote_index_column": 22
        },
        {
         "station_id": 46,
         "name": "Washington at Kearney",
         "latitude": 37.795425,
         "longitude": -122.404767,
         "dockcount": 15,
         "landmark": "San Francisco",
         "installation_date": "2013-08-19",
         "_deepnote_index_column": 23
        },
        {
         "station_id": 42,
         "name": "Davis at Jackson",
         "latitude": 37.79728,
         "longitude": -122.398436,
         "dockcount": 15,
         "landmark": "San Francisco",
         "installation_date": "2013-08-19",
         "_deepnote_index_column": 24
        },
        {
         "station_id": 45,
         "name": "Commercial at Montgomery",
         "latitude": 37.794231,
         "longitude": -122.402923,
         "dockcount": 15,
         "landmark": "San Francisco",
         "installation_date": "2013-08-19",
         "_deepnote_index_column": 25
        },
        {
         "station_id": 54,
         "name": "Embarcadero at Bryant",
         "latitude": 37.787152,
         "longitude": -122.388013,
         "dockcount": 15,
         "landmark": "San Francisco",
         "installation_date": "2013-08-20",
         "_deepnote_index_column": 26
        },
        {
         "station_id": 60,
         "name": "Embarcadero at Sansome",
         "latitude": 37.80477,
         "longitude": -122.403234,
         "dockcount": 15,
         "landmark": "San Francisco",
         "installation_date": "2013-08-21",
         "_deepnote_index_column": 27
        },
        {
         "station_id": 57,
         "name": "5th at Howard",
         "latitude": 37.781752,
         "longitude": -122.405127,
         "dockcount": 15,
         "landmark": "San Francisco",
         "installation_date": "2013-08-21",
         "_deepnote_index_column": 28
        },
        {
         "station_id": 33,
         "name": "Charleston Park/ North Bayshore Area",
         "latitude": 37.420909,
         "longitude": -122.080623,
         "dockcount": 15,
         "landmark": "Mountain View",
         "installation_date": "2015-09-28",
         "_deepnote_index_column": 29
        },
        {
         "station_id": 30,
         "name": "Middlefield Light Rail Station",
         "latitude": 37.395337,
         "longitude": -122.052476,
         "dockcount": 15,
         "landmark": "Mountain View",
         "installation_date": "2015-09-28",
         "_deepnote_index_column": 30
        },
        {
         "station_id": 65,
         "name": "Townsend at 7th",
         "latitude": 37.771058,
         "longitude": -122.402717,
         "dockcount": 15,
         "landmark": "San Francisco",
         "installation_date": "2013-08-22",
         "_deepnote_index_column": 31
        },
        {
         "station_id": 64,
         "name": "2nd at South Park",
         "latitude": 37.782259,
         "longitude": -122.392738,
         "dockcount": 15,
         "landmark": "San Francisco",
         "installation_date": "2013-08-22",
         "_deepnote_index_column": 32
        },
        {
         "station_id": 80,
         "name": "Santa Clara County Civic Center",
         "latitude": 37.352601,
         "longitude": -121.905733,
         "dockcount": 15,
         "landmark": "San Jose",
         "installation_date": "2013-12-31",
         "_deepnote_index_column": 33
        },
        {
         "station_id": 31,
         "name": "San Antonio Shopping Center",
         "latitude": 37.400443,
         "longitude": -122.108338,
         "dockcount": 15,
         "landmark": "Mountain View",
         "installation_date": "2013-12-31",
         "_deepnote_index_column": 34
        },
        {
         "station_id": 82,
         "name": "Broadway St at Battery St",
         "latitude": 37.798541,
         "longitude": -122.400862,
         "dockcount": 15,
         "landmark": "San Francisco",
         "installation_date": "2014-01-22",
         "_deepnote_index_column": 35
        },
        {
         "station_id": 83,
         "name": "Mezes Park",
         "latitude": 37.491269,
         "longitude": -122.236234,
         "dockcount": 15,
         "landmark": "Redwood City",
         "installation_date": "2014-02-20",
         "_deepnote_index_column": 36
        },
        {
         "station_id": 73,
         "name": "Grant Avenue at Columbus Avenue",
         "latitude": 37.7979,
         "longitude": -122.405942,
         "dockcount": 19,
         "landmark": "San Francisco",
         "installation_date": "2016-05-19",
         "_deepnote_index_column": 37
        },
        {
         "station_id": 14,
         "name": "Arena Green / SAP Center",
         "latitude": 37.332692,
         "longitude": -121.900084,
         "dockcount": 19,
         "landmark": "San Jose",
         "installation_date": "2013-08-05",
         "_deepnote_index_column": 38
        },
        {
         "station_id": 5,
         "name": "Adobe on Almaden",
         "latitude": 37.331415,
         "longitude": -121.8932,
         "dockcount": 19,
         "landmark": "San Jose",
         "installation_date": "2013-08-05",
         "_deepnote_index_column": 39
        },
        {
         "station_id": 11,
         "name": "MLK Library",
         "latitude": 37.335885,
         "longitude": -121.88566,
         "dockcount": 19,
         "landmark": "San Jose",
         "installation_date": "2013-08-06",
         "_deepnote_index_column": 40
        },
        {
         "station_id": 12,
         "name": "SJSU 4th at San Carlos",
         "latitude": 37.332808,
         "longitude": -121.883891,
         "dockcount": 19,
         "landmark": "San Jose",
         "installation_date": "2013-08-07",
         "_deepnote_index_column": 41
        },
        {
         "station_id": 89,
         "name": "S. Market st at Park Ave",
         "latitude": 37.332398,
         "longitude": -121.890429,
         "dockcount": 19,
         "landmark": "San Jose",
         "installation_date": "2016-06-05",
         "_deepnote_index_column": 42
        },
        {
         "station_id": 88,
         "name": "5th S. at E. San Salvador St",
         "latitude": 37.331957,
         "longitude": -121.88163,
         "dockcount": 19,
         "landmark": "San Jose",
         "installation_date": "2016-06-05",
         "_deepnote_index_column": 43
        },
        {
         "station_id": 47,
         "name": "Post at Kearney",
         "latitude": 37.788975,
         "longitude": -122.403452,
         "dockcount": 19,
         "landmark": "San Francisco",
         "installation_date": "2013-08-19",
         "_deepnote_index_column": 44
        },
        {
         "station_id": 56,
         "name": "Beale at Market",
         "latitude": 37.792251,
         "longitude": -122.397086,
         "dockcount": 19,
         "landmark": "San Francisco",
         "installation_date": "2013-08-20",
         "_deepnote_index_column": 45
        },
        {
         "station_id": 51,
         "name": "Embarcadero at Folsom",
         "latitude": 37.791464,
         "longitude": -122.391034,
         "dockcount": 19,
         "landmark": "San Francisco",
         "installation_date": "2013-08-20",
         "_deepnote_index_column": 46
        },
        {
         "station_id": 49,
         "name": "Spear at Folsom",
         "latitude": 37.790302,
         "longitude": -122.390637,
         "dockcount": 19,
         "landmark": "San Francisco",
         "installation_date": "2013-08-20",
         "_deepnote_index_column": 47
        },
        {
         "station_id": 58,
         "name": "San Francisco City Hall",
         "latitude": 37.77865,
         "longitude": -122.418235,
         "dockcount": 19,
         "landmark": "San Francisco",
         "installation_date": "2013-08-21",
         "_deepnote_index_column": 48
        },
        {
         "station_id": 62,
         "name": "2nd at Folsom",
         "latitude": 37.785299,
         "longitude": -122.396236,
         "dockcount": 19,
         "landmark": "San Francisco",
         "installation_date": "2013-08-22",
         "_deepnote_index_column": 49
        },
        {
         "station_id": 63,
         "name": "Howard at 2nd",
         "latitude": 37.786978,
         "longitude": -122.398108,
         "dockcount": 19,
         "landmark": "San Francisco",
         "installation_date": "2013-08-22",
         "_deepnote_index_column": 50
        },
        {
         "station_id": 68,
         "name": "Yerba Buena Center of the Arts (3rd @ Howard)",
         "latitude": 37.784878,
         "longitude": -122.401014,
         "dockcount": 19,
         "landmark": "San Francisco",
         "installation_date": "2013-08-23",
         "_deepnote_index_column": 51
        },
        {
         "station_id": 66,
         "name": "South Van Ness at Market",
         "latitude": 37.774814,
         "longitude": -122.418954,
         "dockcount": 19,
         "landmark": "San Francisco",
         "installation_date": "2013-08-23",
         "_deepnote_index_column": 52
        },
        {
         "station_id": 70,
         "name": "San Francisco Caltrain (Townsend at 4th)",
         "latitude": 37.776617,
         "longitude": -122.39526,
         "dockcount": 19,
         "landmark": "San Francisco",
         "installation_date": "2013-08-23",
         "_deepnote_index_column": 53
        },
        {
         "station_id": 71,
         "name": "Powell at Post (Union Square)",
         "latitude": 37.788446,
         "longitude": -122.408499,
         "dockcount": 19,
         "landmark": "San Francisco",
         "installation_date": "2013-08-23",
         "_deepnote_index_column": 54
        },
        {
         "station_id": 75,
         "name": "Mechanics Plaza (Market at Battery)",
         "latitude": 37.7913,
         "longitude": -122.399051,
         "dockcount": 19,
         "landmark": "San Francisco",
         "installation_date": "2013-08-25",
         "_deepnote_index_column": 55
        },
        {
         "station_id": 76,
         "name": "Market at 4th",
         "latitude": 37.786305,
         "longitude": -122.404966,
         "dockcount": 19,
         "landmark": "San Francisco",
         "installation_date": "2013-08-25",
         "_deepnote_index_column": 56
        },
        {
         "station_id": 39,
         "name": "Powell Street BART",
         "latitude": 37.783871,
         "longitude": -122.408433,
         "dockcount": 19,
         "landmark": "San Francisco",
         "installation_date": "2013-08-25",
         "_deepnote_index_column": 57
        },
        {
         "station_id": 34,
         "name": "Palo Alto Caltrain Station",
         "latitude": 37.443988,
         "longitude": -122.164759,
         "dockcount": 23,
         "landmark": "Palo Alto",
         "installation_date": "2013-08-14",
         "_deepnote_index_column": 58
        },
        {
         "station_id": 29,
         "name": "San Antonio Caltrain Station",
         "latitude": 37.40694,
         "longitude": -122.106758,
         "dockcount": 23,
         "landmark": "Mountain View",
         "installation_date": "2013-08-15",
         "_deepnote_index_column": 59
        },
        {
         "station_id": 28,
         "name": "Mountain View Caltrain Station",
         "latitude": 37.394358,
         "longitude": -122.076713,
         "dockcount": 23,
         "landmark": "Mountain View",
         "installation_date": "2013-08-15",
         "_deepnote_index_column": 60
        },
        {
         "station_id": 50,
         "name": "Harry Bridges Plaza (Ferry Building)",
         "latitude": 37.795392,
         "longitude": -122.394203,
         "dockcount": 23,
         "landmark": "San Francisco",
         "installation_date": "2013-08-20",
         "_deepnote_index_column": 61
        },
        {
         "station_id": 55,
         "name": "Temporary Transbay Terminal (Howard at Beale)",
         "latitude": 37.789756,
         "longitude": -122.394643,
         "dockcount": 23,
         "landmark": "San Francisco",
         "installation_date": "2013-08-20",
         "_deepnote_index_column": 62
        },
        {
         "station_id": 59,
         "name": "Golden Gate at Polk",
         "latitude": 37.781332,
         "longitude": -122.418603,
         "dockcount": 23,
         "landmark": "San Francisco",
         "installation_date": "2013-08-21",
         "_deepnote_index_column": 63
        },
        {
         "station_id": 72,
         "name": "Civic Center BART (7th at Market)",
         "latitude": 37.781039,
         "longitude": -122.411748,
         "dockcount": 23,
         "landmark": "San Francisco",
         "installation_date": "2013-08-23",
         "_deepnote_index_column": 64
        },
        {
         "station_id": 69,
         "name": "San Francisco Caltrain 2 (330 Townsend)",
         "latitude": 37.7766,
         "longitude": -122.39547,
         "dockcount": 23,
         "landmark": "San Francisco",
         "installation_date": "2013-08-23",
         "_deepnote_index_column": 65
        },
        {
         "station_id": 74,
         "name": "Steuart at Market",
         "latitude": 37.794139,
         "longitude": -122.394434,
         "dockcount": 23,
         "landmark": "San Francisco",
         "installation_date": "2013-08-25",
         "_deepnote_index_column": 66
        },
        {
         "station_id": 22,
         "name": "Redwood City Caltrain Station",
         "latitude": 37.486078,
         "longitude": -122.232089,
         "dockcount": 25,
         "landmark": "Redwood City",
         "installation_date": "2013-08-15",
         "_deepnote_index_column": 67
        },
        {
         "station_id": 2,
         "name": "San Jose Diridon Caltrain Station",
         "latitude": 37.329732,
         "longitude": -121.901782,
         "dockcount": 27,
         "landmark": "San Jose",
         "installation_date": "2013-08-06",
         "_deepnote_index_column": 68
        },
        {
         "station_id": 61,
         "name": "2nd at Townsend",
         "latitude": 37.780526,
         "longitude": -122.390288,
         "dockcount": 27,
         "landmark": "San Francisco",
         "installation_date": "2013-08-22",
         "_deepnote_index_column": 69
        },
        {
         "station_id": 67,
         "name": "Market at 10th",
         "latitude": 37.776619,
         "longitude": -122.417385,
         "dockcount": 27,
         "landmark": "San Francisco",
         "installation_date": "2013-08-23",
         "_deepnote_index_column": 70
        },
        {
         "station_id": 77,
         "name": "Market at Sansome",
         "latitude": 37.789625,
         "longitude": -122.400811,
         "dockcount": 27,
         "landmark": "San Francisco",
         "installation_date": "2013-08-25",
         "_deepnote_index_column": 71
        },
        {
         "station_id": 90,
         "name": "5th St at Folsom St",
         "latitude": 37.780148,
         "longitude": -122.403158,
         "dockcount": 31,
         "landmark": "San Francisco",
         "installation_date": "2016-08-04",
         "_deepnote_index_column": 72
        },
        {
         "station_id": 91,
         "name": "Cyril Magnin St at Ellis St",
         "latitude": 37.785908,
         "longitude": -122.408891,
         "dockcount": 35,
         "landmark": "San Francisco",
         "installation_date": "2016-08-04",
         "_deepnote_index_column": 73
        }
       ],
       "rows_bottom": null
      },
      "text/plain": "    station_id                              name   latitude   longitude  \\\n0            4            Santa Clara at Almaden  37.333988 -121.894902   \n1           37              Cowper at University  37.448598 -122.159504   \n2           35            University and Emerson  37.444521 -122.163093   \n3           32  Castro Street and El Camino Real  37.385956 -122.083678   \n4           84                       Ryland Park  37.342725 -121.895617   \n..         ...                               ...        ...         ...   \n69          61                   2nd at Townsend  37.780526 -122.390288   \n70          67                    Market at 10th  37.776619 -122.417385   \n71          77                 Market at Sansome  37.789625 -122.400811   \n72          90               5th St at Folsom St  37.780148 -122.403158   \n73          91       Cyril Magnin St at Ellis St  37.785908 -122.408891   \n\n    dockcount       landmark installation_date  \n0          11       San Jose        2013-08-06  \n1          11      Palo Alto        2013-08-14  \n2          11      Palo Alto        2013-08-15  \n3          11  Mountain View        2013-12-31  \n4          15       San Jose        2014-04-09  \n..        ...            ...               ...  \n69         27  San Francisco        2013-08-22  \n70         27  San Francisco        2013-08-23  \n71         27  San Francisco        2013-08-25  \n72         31  San Francisco        2016-08-04  \n73         35  San Francisco        2016-08-04  \n\n[74 rows x 7 columns]",
      "text/html": "<div>\n<style scoped>\n    .dataframe tbody tr th:only-of-type {\n        vertical-align: middle;\n    }\n\n    .dataframe tbody tr th {\n        vertical-align: top;\n    }\n\n    .dataframe thead th {\n        text-align: right;\n    }\n</style>\n<table border=\"1\" class=\"dataframe\">\n  <thead>\n    <tr style=\"text-align: right;\">\n      <th></th>\n      <th>station_id</th>\n      <th>name</th>\n      <th>latitude</th>\n      <th>longitude</th>\n      <th>dockcount</th>\n      <th>landmark</th>\n      <th>installation_date</th>\n    </tr>\n  </thead>\n  <tbody>\n    <tr>\n      <th>0</th>\n      <td>4</td>\n      <td>Santa Clara at Almaden</td>\n      <td>37.333988</td>\n      <td>-121.894902</td>\n      <td>11</td>\n      <td>San Jose</td>\n      <td>2013-08-06</td>\n    </tr>\n    <tr>\n      <th>1</th>\n      <td>37</td>\n      <td>Cowper at University</td>\n      <td>37.448598</td>\n      <td>-122.159504</td>\n      <td>11</td>\n      <td>Palo Alto</td>\n      <td>2013-08-14</td>\n    </tr>\n    <tr>\n      <th>2</th>\n      <td>35</td>\n      <td>University and Emerson</td>\n      <td>37.444521</td>\n      <td>-122.163093</td>\n      <td>11</td>\n      <td>Palo Alto</td>\n      <td>2013-08-15</td>\n    </tr>\n    <tr>\n      <th>3</th>\n      <td>32</td>\n      <td>Castro Street and El Camino Real</td>\n      <td>37.385956</td>\n      <td>-122.083678</td>\n      <td>11</td>\n      <td>Mountain View</td>\n      <td>2013-12-31</td>\n    </tr>\n    <tr>\n      <th>4</th>\n      <td>84</td>\n      <td>Ryland Park</td>\n      <td>37.342725</td>\n      <td>-121.895617</td>\n      <td>15</td>\n      <td>San Jose</td>\n      <td>2014-04-09</td>\n    </tr>\n    <tr>\n      <th>...</th>\n      <td>...</td>\n      <td>...</td>\n      <td>...</td>\n      <td>...</td>\n      <td>...</td>\n      <td>...</td>\n      <td>...</td>\n    </tr>\n    <tr>\n      <th>69</th>\n      <td>61</td>\n      <td>2nd at Townsend</td>\n      <td>37.780526</td>\n      <td>-122.390288</td>\n      <td>27</td>\n      <td>San Francisco</td>\n      <td>2013-08-22</td>\n    </tr>\n    <tr>\n      <th>70</th>\n      <td>67</td>\n      <td>Market at 10th</td>\n      <td>37.776619</td>\n      <td>-122.417385</td>\n      <td>27</td>\n      <td>San Francisco</td>\n      <td>2013-08-23</td>\n    </tr>\n    <tr>\n      <th>71</th>\n      <td>77</td>\n      <td>Market at Sansome</td>\n      <td>37.789625</td>\n      <td>-122.400811</td>\n      <td>27</td>\n      <td>San Francisco</td>\n      <td>2013-08-25</td>\n    </tr>\n    <tr>\n      <th>72</th>\n      <td>90</td>\n      <td>5th St at Folsom St</td>\n      <td>37.780148</td>\n      <td>-122.403158</td>\n      <td>31</td>\n      <td>San Francisco</td>\n      <td>2016-08-04</td>\n    </tr>\n    <tr>\n      <th>73</th>\n      <td>91</td>\n      <td>Cyril Magnin St at Ellis St</td>\n      <td>37.785908</td>\n      <td>-122.408891</td>\n      <td>35</td>\n      <td>San Francisco</td>\n      <td>2016-08-04</td>\n    </tr>\n  </tbody>\n</table>\n<p>74 rows × 7 columns</p>\n</div>"
     },
     "metadata": {}
    }
   ]
  },
  {
   "cell_type": "code",
   "metadata": {
    "tags": [],
    "cell_id": "00003-3de0ebe4-7a90-409c-8bc5-bb1fe5a9266f",
    "deepnote_to_be_reexecuted": false,
    "source_hash": "dbe895c1",
    "execution_start": 1620918337889,
    "execution_millis": 17,
    "deepnote_cell_type": "code"
   },
   "source": "# this is Caitlyn's comment\ndf.info()",
   "execution_count": 3,
   "outputs": [
    {
     "name": "stdout",
     "text": "<class 'pandas.core.frame.DataFrame'>\nRangeIndex: 74 entries, 0 to 73\nData columns (total 7 columns):\n #   Column             Non-Null Count  Dtype  \n---  ------             --------------  -----  \n 0   station_id         74 non-null     int64  \n 1   name               74 non-null     object \n 2   latitude           74 non-null     float64\n 3   longitude          74 non-null     float64\n 4   dockcount          74 non-null     int64  \n 5   landmark           74 non-null     object \n 6   installation_date  74 non-null     object \ndtypes: float64(2), int64(2), object(3)\nmemory usage: 4.2+ KB\n",
     "output_type": "stream"
    }
   ]
  },
  {
   "cell_type": "code",
   "metadata": {
    "tags": [],
    "cell_id": "00004-eece1779-1b10-4b76-b460-195c1d3a7e7a",
    "deepnote_cell_type": "code"
   },
   "source": "# hewo testing 1 2 3",
   "execution_count": null,
   "outputs": []
  },
  {
   "cell_type": "code",
   "metadata": {
    "tags": [],
    "cell_id": "00005-313b2c22-8a0e-4af8-828e-f7f32db4b161",
    "deepnote_to_be_reexecuted": false,
    "source_hash": "872dc043",
    "execution_start": 1620918332133,
    "execution_millis": 9,
    "deepnote_cell_type": "code"
   },
   "source": "# this is Matt's cells\ndf.head()",
   "execution_count": 2,
   "outputs": [
    {
     "output_type": "execute_result",
     "execution_count": 2,
     "data": {
      "application/vnd.deepnote.dataframe.v2+json": {
       "row_count": 5,
       "column_count": 7,
       "columns": [
        {
         "name": "station_id",
         "dtype": "int64",
         "stats": {
          "unique_count": 5,
          "nan_count": 0,
          "min": "4",
          "max": "84",
          "histogram": [
           {
            "bin_start": 4,
            "bin_end": 12,
            "count": 1
           },
           {
            "bin_start": 12,
            "bin_end": 20,
            "count": 0
           },
           {
            "bin_start": 20,
            "bin_end": 28,
            "count": 0
           },
           {
            "bin_start": 28,
            "bin_end": 36,
            "count": 2
           },
           {
            "bin_start": 36,
            "bin_end": 44,
            "count": 1
           },
           {
            "bin_start": 44,
            "bin_end": 52,
            "count": 0
           },
           {
            "bin_start": 52,
            "bin_end": 60,
            "count": 0
           },
           {
            "bin_start": 60,
            "bin_end": 68,
            "count": 0
           },
           {
            "bin_start": 68,
            "bin_end": 76,
            "count": 0
           },
           {
            "bin_start": 76,
            "bin_end": 84,
            "count": 1
           }
          ]
         }
        },
        {
         "name": "name",
         "dtype": "object",
         "stats": {
          "unique_count": 5,
          "nan_count": 0,
          "categories": [
           {
            "name": "Santa Clara at Almaden",
            "count": 1
           },
           {
            "name": "Cowper at University",
            "count": 1
           },
           {
            "name": "3 others",
            "count": 3
           }
          ]
         }
        },
        {
         "name": "latitude",
         "dtype": "float64",
         "stats": {
          "unique_count": 5,
          "nan_count": 0,
          "min": "37.333988",
          "max": "37.448598",
          "histogram": [
           {
            "bin_start": 37.333988,
            "bin_end": 37.345448999999995,
            "count": 2
           },
           {
            "bin_start": 37.345448999999995,
            "bin_end": 37.35691,
            "count": 0
           },
           {
            "bin_start": 37.35691,
            "bin_end": 37.368370999999996,
            "count": 0
           },
           {
            "bin_start": 37.368370999999996,
            "bin_end": 37.379832,
            "count": 0
           },
           {
            "bin_start": 37.379832,
            "bin_end": 37.391293,
            "count": 1
           },
           {
            "bin_start": 37.391293,
            "bin_end": 37.402753999999995,
            "count": 0
           },
           {
            "bin_start": 37.402753999999995,
            "bin_end": 37.414215,
            "count": 0
           },
           {
            "bin_start": 37.414215,
            "bin_end": 37.425675999999996,
            "count": 0
           },
           {
            "bin_start": 37.425675999999996,
            "bin_end": 37.437137,
            "count": 0
           },
           {
            "bin_start": 37.437137,
            "bin_end": 37.448598,
            "count": 2
           }
          ]
         }
        },
        {
         "name": "longitude",
         "dtype": "float64",
         "stats": {
          "unique_count": 5,
          "nan_count": 0,
          "min": "-122.163093",
          "max": "-121.894902",
          "histogram": [
           {
            "bin_start": -122.163093,
            "bin_end": -122.1362739,
            "count": 2
           },
           {
            "bin_start": -122.1362739,
            "bin_end": -122.10945480000001,
            "count": 0
           },
           {
            "bin_start": -122.10945480000001,
            "bin_end": -122.0826357,
            "count": 1
           },
           {
            "bin_start": -122.0826357,
            "bin_end": -122.0558166,
            "count": 0
           },
           {
            "bin_start": -122.0558166,
            "bin_end": -122.0289975,
            "count": 0
           },
           {
            "bin_start": -122.0289975,
            "bin_end": -122.0021784,
            "count": 0
           },
           {
            "bin_start": -122.0021784,
            "bin_end": -121.97535930000001,
            "count": 0
           },
           {
            "bin_start": -121.97535930000001,
            "bin_end": -121.9485402,
            "count": 0
           },
           {
            "bin_start": -121.9485402,
            "bin_end": -121.9217211,
            "count": 0
           },
           {
            "bin_start": -121.9217211,
            "bin_end": -121.894902,
            "count": 2
           }
          ]
         }
        },
        {
         "name": "dockcount",
         "dtype": "int64",
         "stats": {
          "unique_count": 2,
          "nan_count": 0,
          "min": "11",
          "max": "15",
          "histogram": [
           {
            "bin_start": 11,
            "bin_end": 11.4,
            "count": 4
           },
           {
            "bin_start": 11.4,
            "bin_end": 11.8,
            "count": 0
           },
           {
            "bin_start": 11.8,
            "bin_end": 12.2,
            "count": 0
           },
           {
            "bin_start": 12.2,
            "bin_end": 12.6,
            "count": 0
           },
           {
            "bin_start": 12.6,
            "bin_end": 13,
            "count": 0
           },
           {
            "bin_start": 13,
            "bin_end": 13.4,
            "count": 0
           },
           {
            "bin_start": 13.4,
            "bin_end": 13.8,
            "count": 0
           },
           {
            "bin_start": 13.8,
            "bin_end": 14.2,
            "count": 0
           },
           {
            "bin_start": 14.2,
            "bin_end": 14.6,
            "count": 0
           },
           {
            "bin_start": 14.6,
            "bin_end": 15,
            "count": 1
           }
          ]
         }
        },
        {
         "name": "landmark",
         "dtype": "object",
         "stats": {
          "unique_count": 3,
          "nan_count": 0,
          "categories": [
           {
            "name": "San Jose",
            "count": 2
           },
           {
            "name": "Palo Alto",
            "count": 2
           },
           {
            "name": "Mountain View",
            "count": 1
           }
          ]
         }
        },
        {
         "name": "installation_date",
         "dtype": "object",
         "stats": {
          "unique_count": 5,
          "nan_count": 0,
          "categories": [
           {
            "name": "2013-08-06",
            "count": 1
           },
           {
            "name": "2013-08-14",
            "count": 1
           },
           {
            "name": "3 others",
            "count": 3
           }
          ]
         }
        },
        {
         "name": "_deepnote_index_column",
         "dtype": "int64"
        }
       ],
       "rows_top": [
        {
         "station_id": 4,
         "name": "Santa Clara at Almaden",
         "latitude": 37.333988,
         "longitude": -121.894902,
         "dockcount": 11,
         "landmark": "San Jose",
         "installation_date": "2013-08-06",
         "_deepnote_index_column": 0
        },
        {
         "station_id": 37,
         "name": "Cowper at University",
         "latitude": 37.448598,
         "longitude": -122.159504,
         "dockcount": 11,
         "landmark": "Palo Alto",
         "installation_date": "2013-08-14",
         "_deepnote_index_column": 1
        },
        {
         "station_id": 35,
         "name": "University and Emerson",
         "latitude": 37.444521,
         "longitude": -122.163093,
         "dockcount": 11,
         "landmark": "Palo Alto",
         "installation_date": "2013-08-15",
         "_deepnote_index_column": 2
        },
        {
         "station_id": 32,
         "name": "Castro Street and El Camino Real",
         "latitude": 37.385956,
         "longitude": -122.083678,
         "dockcount": 11,
         "landmark": "Mountain View",
         "installation_date": "2013-12-31",
         "_deepnote_index_column": 3
        },
        {
         "station_id": 84,
         "name": "Ryland Park",
         "latitude": 37.342725,
         "longitude": -121.895617,
         "dockcount": 15,
         "landmark": "San Jose",
         "installation_date": "2014-04-09",
         "_deepnote_index_column": 4
        }
       ],
       "rows_bottom": null
      },
      "text/plain": "   station_id                              name   latitude   longitude  \\\n0           4            Santa Clara at Almaden  37.333988 -121.894902   \n1          37              Cowper at University  37.448598 -122.159504   \n2          35            University and Emerson  37.444521 -122.163093   \n3          32  Castro Street and El Camino Real  37.385956 -122.083678   \n4          84                       Ryland Park  37.342725 -121.895617   \n\n   dockcount       landmark installation_date  \n0         11       San Jose        2013-08-06  \n1         11      Palo Alto        2013-08-14  \n2         11      Palo Alto        2013-08-15  \n3         11  Mountain View        2013-12-31  \n4         15       San Jose        2014-04-09  ",
      "text/html": "<div>\n<style scoped>\n    .dataframe tbody tr th:only-of-type {\n        vertical-align: middle;\n    }\n\n    .dataframe tbody tr th {\n        vertical-align: top;\n    }\n\n    .dataframe thead th {\n        text-align: right;\n    }\n</style>\n<table border=\"1\" class=\"dataframe\">\n  <thead>\n    <tr style=\"text-align: right;\">\n      <th></th>\n      <th>station_id</th>\n      <th>name</th>\n      <th>latitude</th>\n      <th>longitude</th>\n      <th>dockcount</th>\n      <th>landmark</th>\n      <th>installation_date</th>\n    </tr>\n  </thead>\n  <tbody>\n    <tr>\n      <th>0</th>\n      <td>4</td>\n      <td>Santa Clara at Almaden</td>\n      <td>37.333988</td>\n      <td>-121.894902</td>\n      <td>11</td>\n      <td>San Jose</td>\n      <td>2013-08-06</td>\n    </tr>\n    <tr>\n      <th>1</th>\n      <td>37</td>\n      <td>Cowper at University</td>\n      <td>37.448598</td>\n      <td>-122.159504</td>\n      <td>11</td>\n      <td>Palo Alto</td>\n      <td>2013-08-14</td>\n    </tr>\n    <tr>\n      <th>2</th>\n      <td>35</td>\n      <td>University and Emerson</td>\n      <td>37.444521</td>\n      <td>-122.163093</td>\n      <td>11</td>\n      <td>Palo Alto</td>\n      <td>2013-08-15</td>\n    </tr>\n    <tr>\n      <th>3</th>\n      <td>32</td>\n      <td>Castro Street and El Camino Real</td>\n      <td>37.385956</td>\n      <td>-122.083678</td>\n      <td>11</td>\n      <td>Mountain View</td>\n      <td>2013-12-31</td>\n    </tr>\n    <tr>\n      <th>4</th>\n      <td>84</td>\n      <td>Ryland Park</td>\n      <td>37.342725</td>\n      <td>-121.895617</td>\n      <td>15</td>\n      <td>San Jose</td>\n      <td>2014-04-09</td>\n    </tr>\n  </tbody>\n</table>\n</div>"
     },
     "metadata": {}
    }
   ]
  },
  {
   "cell_type": "code",
   "metadata": {
    "tags": [],
    "cell_id": "00007-d8fc6b01-f4c4-4fa3-9005-d38c172f6abf",
    "deepnote_cell_type": "code"
   },
   "source": "",
   "execution_count": null,
   "outputs": []
  },
  {
   "cell_type": "code",
   "metadata": {
    "tags": [],
    "cell_id": "00007-b955c245-09c0-4b07-9af5-1dd9711e4029",
    "deepnote_to_be_reexecuted": false,
    "source_hash": "5243200c",
    "execution_start": 1620918515075,
    "execution_millis": 1,
    "deepnote_cell_type": "code"
   },
   "source": "# what's up",
   "execution_count": 5,
   "outputs": []
  },
  {
   "cell_type": "code",
   "metadata": {
    "tags": [],
    "cell_id": "00008-b4fc3f45-a848-47db-9560-4635e6e9fe4b",
    "deepnote_to_be_reexecuted": false,
    "source_hash": "460f028f",
    "execution_start": 1620918514135,
    "execution_millis": 8,
    "deepnote_cell_type": "code"
   },
   "source": "df.head(1)",
   "execution_count": 4,
   "outputs": [
    {
     "output_type": "execute_result",
     "execution_count": 4,
     "data": {
      "application/vnd.deepnote.dataframe.v2+json": {
       "row_count": 1,
       "column_count": 7,
       "columns": [
        {
         "name": "station_id",
         "dtype": "int64",
         "stats": {
          "unique_count": 1,
          "nan_count": 0,
          "min": "4",
          "max": "4",
          "histogram": [
           {
            "bin_start": 3.5,
            "bin_end": 3.6,
            "count": 0
           },
           {
            "bin_start": 3.6,
            "bin_end": 3.7,
            "count": 0
           },
           {
            "bin_start": 3.7,
            "bin_end": 3.8,
            "count": 0
           },
           {
            "bin_start": 3.8,
            "bin_end": 3.9,
            "count": 0
           },
           {
            "bin_start": 3.9,
            "bin_end": 4,
            "count": 0
           },
           {
            "bin_start": 4,
            "bin_end": 4.1,
            "count": 1
           },
           {
            "bin_start": 4.1,
            "bin_end": 4.2,
            "count": 0
           },
           {
            "bin_start": 4.2,
            "bin_end": 4.3,
            "count": 0
           },
           {
            "bin_start": 4.3,
            "bin_end": 4.4,
            "count": 0
           },
           {
            "bin_start": 4.4,
            "bin_end": 4.5,
            "count": 0
           }
          ]
         }
        },
        {
         "name": "name",
         "dtype": "object",
         "stats": {
          "unique_count": 1,
          "nan_count": 0,
          "categories": [
           {
            "name": "Santa Clara at Almaden",
            "count": 1
           }
          ]
         }
        },
        {
         "name": "latitude",
         "dtype": "float64",
         "stats": {
          "unique_count": 1,
          "nan_count": 0,
          "min": "37.333988",
          "max": "37.333988",
          "histogram": [
           {
            "bin_start": 36.833988,
            "bin_end": 36.933988,
            "count": 0
           },
           {
            "bin_start": 36.933988,
            "bin_end": 37.033988,
            "count": 0
           },
           {
            "bin_start": 37.033988,
            "bin_end": 37.133987999999995,
            "count": 0
           },
           {
            "bin_start": 37.133987999999995,
            "bin_end": 37.233988,
            "count": 0
           },
           {
            "bin_start": 37.233988,
            "bin_end": 37.333988,
            "count": 0
           },
           {
            "bin_start": 37.333988,
            "bin_end": 37.433988,
            "count": 1
           },
           {
            "bin_start": 37.433988,
            "bin_end": 37.533988,
            "count": 0
           },
           {
            "bin_start": 37.533988,
            "bin_end": 37.633987999999995,
            "count": 0
           },
           {
            "bin_start": 37.633987999999995,
            "bin_end": 37.733988,
            "count": 0
           },
           {
            "bin_start": 37.733988,
            "bin_end": 37.833988,
            "count": 0
           }
          ]
         }
        },
        {
         "name": "longitude",
         "dtype": "float64",
         "stats": {
          "unique_count": 1,
          "nan_count": 0,
          "min": "-121.894902",
          "max": "-121.894902",
          "histogram": [
           {
            "bin_start": -122.394902,
            "bin_end": -122.29490200000001,
            "count": 0
           },
           {
            "bin_start": -122.29490200000001,
            "bin_end": -122.194902,
            "count": 0
           },
           {
            "bin_start": -122.194902,
            "bin_end": -122.094902,
            "count": 0
           },
           {
            "bin_start": -122.094902,
            "bin_end": -121.994902,
            "count": 0
           },
           {
            "bin_start": -121.994902,
            "bin_end": -121.894902,
            "count": 0
           },
           {
            "bin_start": -121.894902,
            "bin_end": -121.79490200000001,
            "count": 1
           },
           {
            "bin_start": -121.79490200000001,
            "bin_end": -121.694902,
            "count": 0
           },
           {
            "bin_start": -121.694902,
            "bin_end": -121.594902,
            "count": 0
           },
           {
            "bin_start": -121.594902,
            "bin_end": -121.494902,
            "count": 0
           },
           {
            "bin_start": -121.494902,
            "bin_end": -121.394902,
            "count": 0
           }
          ]
         }
        },
        {
         "name": "dockcount",
         "dtype": "int64",
         "stats": {
          "unique_count": 1,
          "nan_count": 0,
          "min": "11",
          "max": "11",
          "histogram": [
           {
            "bin_start": 10.5,
            "bin_end": 10.6,
            "count": 0
           },
           {
            "bin_start": 10.6,
            "bin_end": 10.7,
            "count": 0
           },
           {
            "bin_start": 10.7,
            "bin_end": 10.8,
            "count": 0
           },
           {
            "bin_start": 10.8,
            "bin_end": 10.9,
            "count": 0
           },
           {
            "bin_start": 10.9,
            "bin_end": 11,
            "count": 0
           },
           {
            "bin_start": 11,
            "bin_end": 11.1,
            "count": 1
           },
           {
            "bin_start": 11.1,
            "bin_end": 11.2,
            "count": 0
           },
           {
            "bin_start": 11.2,
            "bin_end": 11.3,
            "count": 0
           },
           {
            "bin_start": 11.3,
            "bin_end": 11.4,
            "count": 0
           },
           {
            "bin_start": 11.4,
            "bin_end": 11.5,
            "count": 0
           }
          ]
         }
        },
        {
         "name": "landmark",
         "dtype": "object",
         "stats": {
          "unique_count": 1,
          "nan_count": 0,
          "categories": [
           {
            "name": "San Jose",
            "count": 1
           }
          ]
         }
        },
        {
         "name": "installation_date",
         "dtype": "object",
         "stats": {
          "unique_count": 1,
          "nan_count": 0,
          "categories": [
           {
            "name": "2013-08-06",
            "count": 1
           }
          ]
         }
        },
        {
         "name": "_deepnote_index_column",
         "dtype": "int64"
        }
       ],
       "rows_top": [
        {
         "station_id": 4,
         "name": "Santa Clara at Almaden",
         "latitude": 37.333988,
         "longitude": -121.894902,
         "dockcount": 11,
         "landmark": "San Jose",
         "installation_date": "2013-08-06",
         "_deepnote_index_column": 0
        }
       ],
       "rows_bottom": null
      },
      "text/plain": "   station_id                    name   latitude   longitude  dockcount  \\\n0           4  Santa Clara at Almaden  37.333988 -121.894902         11   \n\n   landmark installation_date  \n0  San Jose        2013-08-06  ",
      "text/html": "<div>\n<style scoped>\n    .dataframe tbody tr th:only-of-type {\n        vertical-align: middle;\n    }\n\n    .dataframe tbody tr th {\n        vertical-align: top;\n    }\n\n    .dataframe thead th {\n        text-align: right;\n    }\n</style>\n<table border=\"1\" class=\"dataframe\">\n  <thead>\n    <tr style=\"text-align: right;\">\n      <th></th>\n      <th>station_id</th>\n      <th>name</th>\n      <th>latitude</th>\n      <th>longitude</th>\n      <th>dockcount</th>\n      <th>landmark</th>\n      <th>installation_date</th>\n    </tr>\n  </thead>\n  <tbody>\n    <tr>\n      <th>0</th>\n      <td>4</td>\n      <td>Santa Clara at Almaden</td>\n      <td>37.333988</td>\n      <td>-121.894902</td>\n      <td>11</td>\n      <td>San Jose</td>\n      <td>2013-08-06</td>\n    </tr>\n  </tbody>\n</table>\n</div>"
     },
     "metadata": {}
    }
   ]
  },
  {
   "cell_type": "code",
   "metadata": {
    "tags": [],
    "cell_id": "00009-9b1e60d8-8e8d-4f54-b0d8-e952c39f4784",
    "deepnote_cell_type": "code"
   },
   "source": "# hello team",
   "execution_count": null,
   "outputs": []
  },
  {
   "cell_type": "code",
   "metadata": {
    "tags": [],
    "cell_id": "00010-f69bcd94-201f-49d4-aee9-8522de4f59db",
    "deepnote_to_be_reexecuted": false,
    "source_hash": "5d95eadc",
    "execution_start": 1620918519910,
    "execution_millis": 5,
    "deepnote_cell_type": "code"
   },
   "source": "#y'all are distracting me",
   "execution_count": 6,
   "outputs": []
  },
  {
   "cell_type": "code",
   "metadata": {
    "tags": [],
    "cell_id": "00011-77783c3c-5db0-4df1-80db-6554993bd4e8",
    "deepnote_to_be_reexecuted": false,
    "source_hash": "d72441de",
    "execution_start": 1620919017538,
    "execution_millis": 0,
    "deepnote_cell_type": "code"
   },
   "source": "#brandon has entered the cell\n# Hello brandon",
   "execution_count": 7,
   "outputs": []
  },
  {
   "cell_type": "code",
   "metadata": {
    "tags": [],
    "cell_id": "00012-76915bd1-6138-488f-bcf2-f5b56215a20f",
    "deepnote_cell_type": "code"
   },
   "source": "",
   "execution_count": null,
   "outputs": []
  },
  {
   "cell_type": "code",
   "metadata": {
    "deepnote_variable_name": "input_1",
    "deepnote_variable_value": "2021-05-13T05:00:00.000Z",
    "cell_id": "00013-2a10167a-ec94-4f86-963d-3f659b01ccaf",
    "deepnote_to_be_reexecuted": false,
    "source_hash": "b623e53d",
    "execution_start": 1620919909814,
    "execution_millis": 1,
    "deepnote_cell_type": "input-date"
   },
   "source": "",
   "execution_count": 8,
   "outputs": []
  },
  {
   "cell_type": "code",
   "metadata": {
    "tags": [],
    "cell_id": "00014-66ccc93e-5a5a-4735-bc7d-1e97c6dfad44",
    "deepnote_to_be_reexecuted": false,
    "source_hash": "70d3c6e0",
    "execution_start": 1620919934894,
    "execution_millis": 7,
    "deepnote_cell_type": "code"
   },
   "source": "df.value_counts('dockcount')",
   "execution_count": 10,
   "outputs": [
    {
     "output_type": "execute_result",
     "execution_count": 10,
     "data": {
      "text/plain": "dockcount\n15    33\n19    21\n23     9\n11     4\n27     4\n25     1\n31     1\n35     1\ndtype: int64"
     },
     "metadata": {}
    }
   ]
  },
  {
   "cell_type": "code",
   "metadata": {
    "tags": [],
    "cell_id": "00015-33aed379-e68e-4c03-b23a-89408a697d6c",
    "deepnote_cell_type": "code"
   },
   "source": "",
   "execution_count": null,
   "outputs": []
  },
  {
   "cell_type": "markdown",
   "source": "<a style='text-decoration:none;line-height:16px;display:flex;color:#5B5B62;padding:10px;justify-content:end;' href='https://deepnote.com?utm_source=created-in-deepnote-cell&projectId=789a13f3-68e9-49f6-8cce-02335bc75c23' target=\"_blank\">\n<img alt='Created in deepnote.com' style='display:inline;max-height:16px;margin:0px;margin-right:7.5px;' src='data:image/svg+xml;base64,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' > </img>\nCreated in <span style='font-weight:600;margin-left:4px;'>Deepnote</span></a>",
   "metadata": {
    "tags": [],
    "created_in_deepnote_cell": true,
    "deepnote_cell_type": "markdown"
   }
  }
 ],
 "nbformat": 4,
 "nbformat_minor": 2,
 "metadata": {
  "deepnoteSessionId": "dea8a0f5-35e3-4468-94eb-804ff5fc7baa",
  "kernelspec": {
   "display_name": "Python 3",
   "language": "python",
   "name": "python3"
  },
  "language_info": {
   "codemirror_mode": {
    "name": "ipython",
    "version": 3
   },
   "file_extension": ".py",
   "mimetype": "text/x-python",
   "name": "python",
   "nbconvert_exporter": "python",
   "pygments_lexer": "ipython3",
   "version": "3.7.5"
  },
  "deepnote_execution_queue": [],
  "deepnote_notebook_id": "0f460af1-1872-4aa4-804e-36716dbf15fd",
  "deepnote": {
   "is_reactive": false
  }
 }
}